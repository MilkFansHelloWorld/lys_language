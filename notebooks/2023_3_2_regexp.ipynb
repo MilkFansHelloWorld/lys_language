{
 "cells": [
  {
   "cell_type": "code",
   "execution_count": 1,
   "metadata": {
    "vscode": {
     "languageId": "ocaml"
    }
   },
   "outputs": [
    {
     "data": {
      "text/plain": [
       "type regexp =\n",
       "    Zero\n",
       "  | One\n",
       "  | Char of char\n",
       "  | Cat of regexp * regexp\n",
       "  | Sum of regexp * regexp\n",
       "  | Star of regexp\n"
      ]
     },
     "execution_count": 1,
     "metadata": {},
     "output_type": "execute_result"
    }
   ],
   "source": [
    "type regexp = Zero | One | Char of char | Cat of regexp * regexp | Sum of regexp * regexp | Star of regexp;;"
   ]
  },
  {
   "cell_type": "code",
   "execution_count": 5,
   "metadata": {
    "vscode": {
     "languageId": "ocaml"
    }
   },
   "outputs": [
    {
     "data": {
      "text/plain": [
       "val accept : regexp -> char list -> (char list -> bool) -> bool = <fun>\n"
      ]
     },
     "execution_count": 5,
     "metadata": {},
     "output_type": "execute_result"
    },
    {
     "data": {
      "text/plain": [
       "val m : regexp -> char list -> bool = <fun>\n"
      ]
     },
     "execution_count": 5,
     "metadata": {},
     "output_type": "execute_result"
    }
   ],
   "source": [
    "let rec accept r s k = \n",
    "    match r with\n",
    "    | Zero -> false\n",
    "    | One -> k s\n",
    "    | Char c -> \n",
    "      (match s with\n",
    "      | c2 :: s2 -> (c = c2) && (k s2)\n",
    "      | [] -> false)\n",
    "    | Cat (r1, r2) -> accept r1 s (fun s2 -> accept r2 s2 k)\n",
    "    | Sum (r1, r2) -> \n",
    "      accept r1 s k || accept r2 s k\n",
    "    | Star r -> \n",
    "      let rec accept_star r s k = \n",
    "          k s || accept r s (fun s2 -> s != s2 && accept_star r s2 k)\n",
    "      in accept_star r s k;;\n",
    "\n",
    "let m r s = accept r s (fun s -> s = [])"
   ]
  },
  {
   "cell_type": "code",
   "execution_count": null,
   "metadata": {
    "vscode": {
     "languageId": "ocaml"
    }
   },
   "outputs": [],
   "source": []
  },
  {
   "cell_type": "code",
   "execution_count": 9,
   "metadata": {
    "vscode": {
     "languageId": "ocaml"
    }
   },
   "outputs": [
    {
     "data": {
      "text/plain": [
       "- : bool = false\n"
      ]
     },
     "execution_count": 9,
     "metadata": {},
     "output_type": "execute_result"
    }
   ],
   "source": [
    "m (Star (Star (Char '1'))) ['1'; '1'; '0']"
   ]
  },
  {
   "cell_type": "code",
   "execution_count": null,
   "metadata": {
    "vscode": {
     "languageId": "ocaml"
    }
   },
   "outputs": [],
   "source": []
  }
 ],
 "metadata": {
  "kernelspec": {
   "display_name": "OCaml default",
   "language": "OCaml",
   "name": "ocaml-jupyter"
  },
  "language_info": {
   "codemirror_mode": "text/x-ocaml",
   "file_extension": ".ml",
   "mimetype": "text/x-ocaml",
   "name": "OCaml",
   "nbconverter_exporter": null,
   "pygments_lexer": "OCaml",
   "version": "4.10.0"
  },
  "orig_nbformat": 4,
  "vscode": {
   "interpreter": {
    "hash": "31f2aee4e71d21fbe5cf8b01ff0e069b9275f58929596ceb00d14d90e3e16cd6"
   }
  }
 },
 "nbformat": 4,
 "nbformat_minor": 2
}
