{
 "cells": [
  {
   "cell_type": "code",
   "execution_count": 11,
   "metadata": {
    "vscode": {
     "languageId": "ocaml"
    }
   },
   "outputs": [
    {
     "data": {
      "text/plain": [
       "val of_list : char list -> string = <fun>\n"
      ]
     },
     "execution_count": 11,
     "metadata": {},
     "output_type": "execute_result"
    }
   ],
   "source": [
    "let rec of_list cs = \n",
    "  match cs with\n",
    "  | [] -> \"\"\n",
    "  | c::cs -> String.make 1 c ^ of_list cs;;\n"
   ]
  },
  {
   "cell_type": "code",
   "execution_count": 3,
   "metadata": {
    "vscode": {
     "languageId": "ocaml"
    }
   },
   "outputs": [
    {
     "data": {
      "text/plain": [
       "type regexp =\n",
       "    Zero\n",
       "  | One\n",
       "  | Char of char\n",
       "  | Cat of regexp * regexp\n",
       "  | Sum of regexp * regexp\n",
       "  | Star of regexp\n"
      ]
     },
     "execution_count": 3,
     "metadata": {},
     "output_type": "execute_result"
    },
    {
     "data": {
      "text/plain": [
       "val of_regexp_1 : regexp -> string = <fun>\n"
      ]
     },
     "execution_count": 3,
     "metadata": {},
     "output_type": "execute_result"
    },
    {
     "data": {
      "text/plain": [
       "val accept : regexp -> char list -> (char list -> bool) -> bool = <fun>\n"
      ]
     },
     "execution_count": 3,
     "metadata": {},
     "output_type": "execute_result"
    },
    {
     "data": {
      "text/plain": [
       "val m : regexp -> char list -> bool = <fun>\n"
      ]
     },
     "execution_count": 3,
     "metadata": {},
     "output_type": "execute_result"
    },
    {
     "name": "stdout",
     "output_type": "stream",
     "text": [
      "110\n",
      "110\n",
      "10\n",
      "110\n",
      "10\n",
      "110\n",
      "10\n",
      "10\n",
      "0\n",
      "10\n",
      "0\n",
      "10\n",
      "0\n",
      "0\n",
      "0\n",
      "10\n",
      "0\n",
      "110\n",
      "0\n",
      "0\n"
     ]
    },
    {
     "data": {
      "text/plain": [
       "- : bool = false\n"
      ]
     },
     "execution_count": 3,
     "metadata": {},
     "output_type": "execute_result"
    }
   ],
   "source": [
    "type regexp = Zero | One | Char of char | Cat of regexp * regexp | Sum of regexp * regexp | Star of regexp;;\n",
    "\n",
    "let rec of_regexp_1 r = \n",
    "  match r with\n",
    "  | Zero -> \"Zero\"\n",
    "  | One -> \"One\"\n",
    "  | Char c -> Printf.sprintf \"Char (%c)\" c\n",
    "  | Cat (r1, r2) -> Printf.sprintf \"Cat (%s, %s)\" (of_regexp_1 r1) (of_regexp_1 r2)\n",
    "  | Sum (r1, r2) -> Printf.sprintf \"Sum (%s, %s)\" (of_regexp_1 r1) (of_regexp_1 r2)\n",
    "  | Star (r1) -> Printf.sprintf \"Star (%s)\" (of_regexp_1 r1);;\n",
    "\n",
    "let rec accept r s k = \n",
    "  match r with\n",
    "  | Zero -> false\n",
    "  | One -> k s\n",
    "  | Char c -> \n",
    "    (match s with\n",
    "    | c2 :: s2 -> (c = c2) && (k s2)\n",
    "    | [] -> false)\n",
    "  | Cat (r1, r2) -> accept r1 s (fun s2 -> accept r2 s2 k)\n",
    "  | Sum (r1, r2) -> \n",
    "    accept r1 s k || accept r2 s k\n",
    "  | Star r -> \n",
    "    let rec accept_star r s k = \n",
    "        k s || accept r s (fun s2 -> \n",
    "          print_endline (of_list s2);\n",
    "          print_endline (of_list s);\n",
    "          s != s2 && accept_star r s2 k)\n",
    "    in accept_star r s k;;\n",
    "\n",
    "let m r s = accept r s (fun s -> s = []);;\n",
    "\n",
    "m (Star (Star (Char '1'))) ['1'; '1'; '0']\n"
   ]
  },
  {
   "cell_type": "code",
   "execution_count": null,
   "metadata": {
    "vscode": {
     "languageId": "ocaml"
    }
   },
   "outputs": [],
   "source": []
  },
  {
   "cell_type": "code",
   "execution_count": 4,
   "metadata": {
    "vscode": {
     "languageId": "ocaml"
    }
   },
   "outputs": [
    {
     "data": {
      "text/plain": [
       "val accept : regexp -> (char list -> bool) -> char list -> bool = <fun>\n"
      ]
     },
     "execution_count": 4,
     "metadata": {},
     "output_type": "execute_result"
    },
    {
     "data": {
      "text/plain": [
       "val m : regexp -> char list -> bool = <fun>\n"
      ]
     },
     "execution_count": 4,
     "metadata": {},
     "output_type": "execute_result"
    },
    {
     "name": "stdout",
     "output_type": "stream",
     "text": [
      "Recursive call on Star (Star (Char (1)))\n",
      "Accept star call on Star (Char (1))\n",
      "Recursive call on Star (Char (1))\n",
      "Accept star call on Char (1)\n",
      "Star call on 10 10\n",
      "Star call on 10 0\n",
      "Accept star call on Char (1)\n",
      "Star call on 10 0\n",
      "Accept star call on Star (Char (1))\n",
      "Recursive call on Star (Char (1))\n",
      "Accept star call on Char (1)\n",
      "Star call on 0 0\n"
     ]
    },
    {
     "data": {
      "text/plain": [
       "- : bool = false\n"
      ]
     },
     "execution_count": 4,
     "metadata": {},
     "output_type": "execute_result"
    }
   ],
   "source": [
    "\n",
    "let rec accept r k = \n",
    "  match r with\n",
    "  | Zero -> fun _ -> false\n",
    "  | One -> fun s -> k s\n",
    "  | Char c -> \n",
    "    (fun s -> \n",
    "    (match s with\n",
    "    | c2 :: s2 -> (c = c2) && (k s2)\n",
    "    | [] -> false))\n",
    "  | Cat (r1, r2) -> \n",
    "    let partial_2 = accept r2 k in \n",
    "    let lifted_partial_2 = partial_2 in\n",
    "    let partial_1 = accept r1 (fun s2 -> lifted_partial_2 s2)\n",
    "    in\n",
    "    (fun s -> \n",
    "      partial_1 s)\n",
    "  | Sum (r1, r2) -> \n",
    "    let partial_1 = accept r1 k in\n",
    "    let partial_2 = accept r2 k in\n",
    "    fun s -> \n",
    "      partial_1 s || partial_2 s\n",
    "  | Star r -> \n",
    "    print_endline (Printf.sprintf \"Recursive call on %s\" (of_regexp_1 (Star (r))));\n",
    "    let new_loop = (fun partial_star s1 s2 -> \n",
    "      print_endline (Printf.sprintf \"Star call on %s %s\" (of_list (s1)) (of_list s2));\n",
    "      s1 != s2 && partial_star s2\n",
    "    ) in\n",
    "    let rec accept_star r k = \n",
    "      fun s -> \n",
    "        print_endline (Printf.sprintf \"Accept star call on %s\" (of_regexp_1 r));\n",
    "        k s || accept r (new_loop (accept_star r k) s) s\n",
    "    in\n",
    "    let acc_star_partial = accept_star r k in\n",
    "    fun s -> \n",
    "      acc_star_partial s;;\n",
    "\n",
    "let m r s = accept r (fun s -> s = []) s;;\n",
    "\n",
    "m (Star (Star (Char '1'))) ['1'; '0']"
   ]
  },
  {
   "cell_type": "code",
   "execution_count": 7,
   "metadata": {
    "vscode": {
     "languageId": "ocaml"
    }
   },
   "outputs": [
    {
     "data": {
      "text/plain": [
       "val accept : regexp -> (char list -> bool) -> char list -> bool = <fun>\n"
      ]
     },
     "execution_count": 7,
     "metadata": {},
     "output_type": "execute_result"
    },
    {
     "data": {
      "text/plain": [
       "val m : regexp -> char list -> bool = <fun>\n"
      ]
     },
     "execution_count": 7,
     "metadata": {},
     "output_type": "execute_result"
    },
    {
     "name": "stdout",
     "output_type": "stream",
     "text": [
      "Recursive call on Star (Star (Char (1)))\n",
      "Accept star call at Star (Char (1)) on 10\n",
      "Recursive call on Star (Char (1))\n",
      "Accept star call at Char (1) on 10\n",
      "Star call at Star (Star (Char (1))) on 10 10\n",
      "Star call at Star (Char (1)) on 10 0\n",
      "Accept star call at Char (1) on 0\n",
      "Star call at Star (Star (Char (1))) on 10 0\n",
      "Accept star call at Star (Char (1)) on 0\n",
      "Recursive call on Star (Char (1))\n",
      "Accept star call at Char (1) on 0\n",
      "Star call at Star (Star (Char (1))) on 0 0\n",
      "false\n",
      "false\n",
      "false\n"
     ]
    },
    {
     "data": {
      "text/plain": [
       "- : bool = false\n"
      ]
     },
     "execution_count": 7,
     "metadata": {},
     "output_type": "execute_result"
    }
   ],
   "source": [
    "\n",
    "let rec accept r k = \n",
    "  match r with\n",
    "  | Zero -> fun _ -> false\n",
    "  | One -> fun s -> k s\n",
    "  | Char c -> \n",
    "    (fun s -> \n",
    "    if (match s with\n",
    "    | c2 :: s2 -> ((c = c2) && (k s2)) \n",
    "    | [] -> false) then (print_endline \"true\"; true) else (print_endline \"false\"; false))\n",
    "  | Cat (r1, r2) -> \n",
    "    let partial_2 = accept r2 k in \n",
    "    let lifted_partial_2 = partial_2 in\n",
    "    let partial_1 = accept r1 (fun s2 -> lifted_partial_2 s2)\n",
    "    in\n",
    "    (fun s -> \n",
    "      partial_1 s)\n",
    "  | Sum (r1, r2) -> \n",
    "    let partial_1 = accept r1 k in\n",
    "    let partial_2 = accept r2 k in\n",
    "    fun s -> \n",
    "      partial_1 s || partial_2 s\n",
    "  | Star r -> \n",
    "    print_endline (Printf.sprintf \"Recursive call on %s\" (of_regexp_1 (Star (r))));\n",
    "    let new_loop = (fun partial_star s1 s2 -> \n",
    "      print_endline (Printf.sprintf \"Star call at %s on %s %s\" (of_regexp_1 (Star r)) (of_list (s1)) (of_list s2));\n",
    "      s1 != s2 && partial_star s2\n",
    "    ) in\n",
    "    let rec accept_star r k = \n",
    "      fun s -> \n",
    "        print_endline (Printf.sprintf \"Accept star call at %s on %s\" (of_regexp_1 r) (of_list s));\n",
    "        k s || accept r (new_loop (accept_star r k) s) s\n",
    "    in\n",
    "    let acc_star_partial = accept_star r k in\n",
    "    fun s -> \n",
    "      acc_star_partial s;;\n",
    "\n",
    "let m r s = accept r (fun s -> s = []) s;;\n",
    "\n",
    "m (Star (Star (Char '1'))) ['1'; '0']"
   ]
  },
  {
   "cell_type": "code",
   "execution_count": 8,
   "metadata": {
    "vscode": {
     "languageId": "ocaml"
    }
   },
   "outputs": [
    {
     "name": "stdout",
     "output_type": "stream",
     "text": [
      "Recursive call on Star (Star (Char (1)))\n",
      "Accept star call at Star (Char (1)) on 10\n",
      "Recursive call on Star (Char (1))\n",
      "Accept star call at Char (1) on 10\n",
      "Star call at Star (Star (Char (1))) on 10 10\n",
      "Star call at Star (Char (1)) on 10 0\n",
      "Accept star call at Char (1) on 0\n",
      "Star call at Star (Star (Char (1))) on 10 0\n",
      "Accept star call at Star (Char (1)) on 0\n",
      "Recursive call on Star (Char (1))\n",
      "Accept star call at Char (1) on 0\n",
      "Star call at Star (Star (Char (1))) on 0 0\n",
      "false\n",
      "false\n",
      "false\n"
     ]
    },
    {
     "data": {
      "text/plain": [
       "- : bool = false\n"
      ]
     },
     "execution_count": 8,
     "metadata": {},
     "output_type": "execute_result"
    }
   ],
   "source": [
    "m (Star (Star (Char '1'))) ['1'; '0']"
   ]
  },
  {
   "cell_type": "code",
   "execution_count": 10,
   "metadata": {
    "vscode": {
     "languageId": "ocaml"
    }
   },
   "outputs": [
    {
     "data": {
      "text/plain": [
       "type regexp2 =\n",
       "    Empty\n",
       "  | Plus of (regexp2 * regexp2)\n",
       "  | Times of (regexp2 * regexp2)\n",
       "  | Star of regexp2\n",
       "  | Const of char\n"
      ]
     },
     "execution_count": 10,
     "metadata": {},
     "output_type": "execute_result"
    },
    {
     "data": {
      "text/plain": [
       "val of_regexp_2 : regexp2 -> string = <fun>\n"
      ]
     },
     "execution_count": 10,
     "metadata": {},
     "output_type": "execute_result"
    }
   ],
   "source": [
    "type regexp2 =\n",
    "Empty\n",
    "| Plus of (regexp2 * regexp2)\n",
    "| Times of (regexp2 * regexp2)\n",
    "| Star of regexp2\n",
    "| Const of char\n",
    ";;\n",
    "\n",
    "let rec of_regexp_2 r = \n",
    "  match r with \n",
    "  | Plus (r1, r2) -> Printf.sprintf \"Plus (%s, %s)\" (of_regexp_2 r1) (of_regexp_2 r2)\n",
    "  | Times (r1, r2) -> Printf.sprintf \"Times (%s, %s)\" (of_regexp_2 r1) (of_regexp_2 r2)\n",
    "  | Star (r1) -> Printf.sprintf \"Star (%s)\" (of_regexp_2 r1)\n",
    "  | Const c -> Printf.sprintf \"Const (%c)\" c\n",
    "  | Empty -> \"Empty\"\n"
   ]
  },
  {
   "cell_type": "code",
   "execution_count": null,
   "metadata": {
    "vscode": {
     "languageId": "ocaml"
    }
   },
   "outputs": [],
   "source": [
    "\n"
   ]
  },
  {
   "cell_type": "code",
   "execution_count": 19,
   "metadata": {
    "vscode": {
     "languageId": "ocaml"
    }
   },
   "outputs": [
    {
     "data": {
      "text/plain": [
       "val acc2 :\n",
       "  regexp2 ->\n",
       "  (char list * char list * (char list -> bool) -> bool) ->\n",
       "  char list * char list * (char list -> bool) -> bool = <fun>\n"
      ]
     },
     "execution_count": 19,
     "metadata": {},
     "output_type": "execute_result"
    },
    {
     "data": {
      "text/plain": [
       "val accept : regexp2 -> char list -> bool = <fun>\n"
      ]
     },
     "execution_count": 19,
     "metadata": {},
     "output_type": "execute_result"
    }
   ],
   "source": [
    "let rec acc2 = \n",
    "  fun (exp) ->    \n",
    "      match exp with\n",
    "      | Empty -> \n",
    "          (fun (cont) -> ( \n",
    "              cont\n",
    "          ))\n",
    "      | Plus (e1, e2) -> \n",
    "          let res1 = acc2 e1 in\n",
    "          let res2 = acc2 e2 in\n",
    "          (fun (cont) ->\n",
    "              let unboxed_res1 = (res1 (cont)) in\n",
    "              let unboxed_res2 = (res2 (cont)) in\n",
    "              fun (str2, str, loop) -> \n",
    "                  (*Short circuiting OR*)\n",
    "                  (unboxed_res1 (str2, str, loop)) || (unboxed_res2 (str2, str, loop)))\n",
    "      | Times (e1, e2) ->\n",
    "          let res1_ = acc2 e1 in\n",
    "          let res2_ = acc2 e2 in\n",
    "          (fun (cont) ->\n",
    "              res1_ (res2_ (cont))\n",
    "          ) \n",
    "      | Const (c) ->\n",
    "          let lifted_unboxed_c = c in\n",
    "          (fun (cont) -> ( \n",
    "              let unboxed_cont = cont in\n",
    "              fun (str2, str, loop) -> (\n",
    "                  match str with\n",
    "                  | [] -> false\n",
    "                  | x::xs -> \n",
    "                      (*Shortcircuiting AND*)\n",
    "                      (x = (lifted_unboxed_c)) && (unboxed_cont (str2, xs, loop))\n",
    "              )\n",
    "          ))\n",
    "      | Star (e) -> \n",
    "            print_endline (Printf.sprintf \"Recursive call on %s\" (of_regexp_2 (Star (e))));\n",
    "          let res = acc2 e in \n",
    "          (fun (cont) -> \n",
    "              let unboxed_cont = cont in\n",
    "              (fun (str2, str, loop) -> \n",
    "                  (*Construct cont*)\n",
    "                  (* let lifted_unboxed_old_str = str in *)\n",
    "                  let new_cont = (fun (str2, str, loop) ->  \n",
    "                    print_endline (Printf.sprintf \"Star call at %s on %s %s\" (of_regexp_2 (Star (e))) (of_list (str2)) (of_list str));\n",
    "                    str2 != str && loop str\n",
    "                  )\n",
    "                  in\n",
    "                  let unboxed_acc2_e_new_cont = res (new_cont) in\n",
    "                  let rec star_loop = \n",
    "                      fun (s) ->\n",
    "                          (*If we don't have anything left we just call the continuation*)\n",
    "                              (*Shortcircuiting OR*)\n",
    "                              print_endline (Printf.sprintf \"Accept star call at %s on %s\" (of_regexp_2 (e)) (of_list s));\n",
    "                            (unboxed_cont (str2, s, loop)) || unboxed_acc2_e_new_cont (s, s, star_loop)\n",
    "                  in\n",
    "                  star_loop str\n",
    "              )\n",
    "          )\n",
    "  ;;\n",
    "\n",
    "let accept r x = acc2 r (fun (_, s, _) -> s = []) ([], x, fun _ -> false)"
   ]
  },
  {
   "cell_type": "code",
   "execution_count": 26,
   "metadata": {
    "vscode": {
     "languageId": "ocaml"
    }
   },
   "outputs": [
    {
     "name": "stdout",
     "output_type": "stream",
     "text": [
      "Recursive call on Star (Star (Star (Const (1))))\n",
      "Recursive call on Star (Star (Const (1)))\n",
      "Recursive call on Star (Const (1))\n",
      "Accept star call at Star (Star (Const (1))) on 0110\n",
      "Accept star call at Star (Const (1)) on 0110\n",
      "Star call at Star (Star (Star (Const (1)))) on 0110 0110\n",
      "Accept star call at Const (1) on 0110\n",
      "Star call at Star (Star (Const (1))) on 0110 0110\n"
     ]
    },
    {
     "data": {
      "text/plain": [
       "- : bool = false\n"
      ]
     },
     "execution_count": 26,
     "metadata": {},
     "output_type": "execute_result"
    }
   ],
   "source": [
    "accept (Star (Star (Star (Const '1')))) ['0'; '1'; '1'; '0']"
   ]
  },
  {
   "cell_type": "code",
   "execution_count": null,
   "metadata": {
    "vscode": {
     "languageId": "ocaml"
    }
   },
   "outputs": [],
   "source": []
  },
  {
   "cell_type": "code",
   "execution_count": null,
   "metadata": {
    "vscode": {
     "languageId": "ocaml"
    }
   },
   "outputs": [],
   "source": []
  },
  {
   "cell_type": "code",
   "execution_count": null,
   "metadata": {
    "vscode": {
     "languageId": "ocaml"
    }
   },
   "outputs": [],
   "source": []
  },
  {
   "cell_type": "code",
   "execution_count": null,
   "metadata": {
    "vscode": {
     "languageId": "ocaml"
    }
   },
   "outputs": [],
   "source": []
  },
  {
   "cell_type": "code",
   "execution_count": null,
   "metadata": {
    "vscode": {
     "languageId": "ocaml"
    }
   },
   "outputs": [],
   "source": []
  },
  {
   "cell_type": "code",
   "execution_count": null,
   "metadata": {
    "vscode": {
     "languageId": "ocaml"
    }
   },
   "outputs": [],
   "source": []
  }
 ],
 "metadata": {
  "kernelspec": {
   "display_name": "OCaml default",
   "language": "OCaml",
   "name": "ocaml-jupyter"
  },
  "language_info": {
   "codemirror_mode": "text/x-ocaml",
   "file_extension": ".ml",
   "mimetype": "text/x-ocaml",
   "name": "OCaml",
   "nbconverter_exporter": null,
   "pygments_lexer": "OCaml",
   "version": "4.10.0"
  },
  "orig_nbformat": 4
 },
 "nbformat": 4,
 "nbformat_minor": 2
}
