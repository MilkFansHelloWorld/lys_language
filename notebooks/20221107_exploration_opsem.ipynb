{
 "cells": [
  {
   "cell_type": "markdown",
   "metadata": {},
   "source": [
    "# Exploration for Op Sem"
   ]
  },
  {
   "cell_type": "markdown",
   "metadata": {},
   "source": [
    "## AST\n",
    "\n",
    "First let's flesh out what sorts of expressions we need.\n",
    "\n",
    "TERMS\n",
    "- Everything in STLC: \n",
    "    - Constants and variables\n",
    "    - lambdas `fun x: A -> e`, application `e e'`, \n",
    "    - integers, integer operations (+ - * / Unary-), eliminators (=, >, <, <=, >=)\n",
    "    - booleans, boolean operations, if/then/else, Operators (and, or, not)\n",
    "    - let variable bindings aliasing lambdas (No polymorphic) `let x: A = e in e'`\n",
    "    - Maybe later: product and sum types.\n",
    "- Top level definitions as statements.\n",
    "    - variables `let x: A = e in e'`\n",
    "    - Maybe later: functions (maybe not yet, add later as syntactic sugar) `let f x = e in e'`\n",
    "    - recursive functions `let rec f: A = e`\n",
    "- Extensions from CMTT\n",
    "    - box(judgement) where judgement = context |- term\n",
    "    - let box unboxing\n",
    "    - closures with \"with\" statements"
   ]
  },
  {
   "cell_type": "markdown",
   "metadata": {},
   "source": [
    "Inspired from https://www.cs.cornell.edu/courses/cs3110/2014sp/hw/4/doc/Ast.html and https://github.com/Timothy-G-Griffin/cc_cl_cam_ac_uk/blob/master/slang/ast.ml"
   ]
  },
  {
   "cell_type": "markdown",
   "metadata": {},
   "source": [
    "Doubts: \n",
    "\n",
    "- Should I separate variable from meta-variable? The advantage of separating is easier implementation; the advantage of not doing so is the ease of extending the language to multi-level later on without needing to affect the AST. \n",
    "- To what extent should I leave stuff to the type checker and to what extent should I throw parse errors in the first place? How general should I make my AST?\n",
    "- Unclear as of now whether I might need to specify the type for metavariables."
   ]
  },
  {
   "cell_type": "code",
   "execution_count": 3,
   "metadata": {},
   "outputs": [
    {
     "data": {
      "text/plain": [
       "type identifier = string\n"
      ]
     },
     "execution_count": 3,
     "metadata": {},
     "output_type": "execute_result"
    },
    {
     "data": {
      "text/plain": [
       "type typ =\n",
       "    TBool\n",
       "  | TInt\n",
       "  | TFun of typ * typ\n",
       "  | TBox of context * typ\n",
       "  | TProd of typ * typ\n",
       "  | TSum of typ * typ\n",
       "and identifier_defn = identifier * typ\n",
       "and context = identifier_defn list\n"
      ]
     },
     "execution_count": 3,
     "metadata": {},
     "output_type": "execute_result"
    },
    {
     "data": {
      "text/plain": [
       "type binary_op =\n",
       "    ADD\n",
       "  | SUB\n",
       "  | MUL\n",
       "  | DIV\n",
       "  | MOD\n",
       "  | EQ\n",
       "  | NEQ\n",
       "  | GTE\n",
       "  | GT\n",
       "  | LTE\n",
       "  | LT\n",
       "  | AND\n",
       "  | OR\n"
      ]
     },
     "execution_count": 3,
     "metadata": {},
     "output_type": "execute_result"
    },
    {
     "data": {
      "text/plain": [
       "type unary_op = NEG | NOT\n"
      ]
     },
     "execution_count": 3,
     "metadata": {},
     "output_type": "execute_result"
    },
    {
     "data": {
      "text/plain": [
       "type constant = Integer of int | Boolean of bool\n"
      ]
     },
     "execution_count": 3,
     "metadata": {},
     "output_type": "execute_result"
    },
    {
     "data": {
      "text/plain": [
       "type expression =\n",
       "    Identifier of identifier\n",
       "  | Constant of constant\n",
       "  | UnaryOp of unary_op * expression\n",
       "  | BinaryOp of binary_op * expression * expression\n",
       "  | Prod of expression * expression\n",
       "  | Fst of expression\n",
       "  | Snd of expression\n",
       "  | Left of typ * typ * expression\n",
       "  | Right of typ * typ * expression\n",
       "  | Match of expression * expression * expression\n",
       "  | Lambda of identifier_defn * expression\n",
       "  | Application of expression * expression\n",
       "  | IfThenElse of expression * expression * expression\n",
       "  | LetBinding of identifier_defn * expression * expression\n",
       "  | LetRec of identifier_defn * expression * expression\n",
       "  | Box of context * expression\n",
       "  | LetBox of identifier * expression * expression\n",
       "  | Closure of identifier * expression list\n"
      ]
     },
     "execution_count": 3,
     "metadata": {},
     "output_type": "execute_result"
    },
    {
     "data": {
      "text/plain": [
       "type directive = Reset | Env | Quit\n"
      ]
     },
     "execution_count": 3,
     "metadata": {},
     "output_type": "execute_result"
    },
    {
     "data": {
      "text/plain": [
       "type top_level_defn =\n",
       "    Definition of identifier_defn * expression\n",
       "  | Expression of expression\n",
       "  | Directive of directive\n"
      ]
     },
     "execution_count": 3,
     "metadata": {},
     "output_type": "execute_result"
    }
   ],
   "source": [
    "type identifier = string\n",
    "\n",
    "type typ = TBool | TInt | TFun of typ * typ | TBox of context * typ | TProd of typ * typ | TSum of typ * typ\n",
    "and identifier_defn = identifier * typ (*x : A*)\n",
    "and context = identifier_defn list (*\\Psi*)\n",
    "\n",
    "type binary_op = ADD | SUB | MUL | DIV | MOD | EQ | NEQ | GTE | GT | LTE | LT | AND | OR (*e op e'*)\n",
    "\n",
    "type unary_op = NEG | NOT (*uop e*)\n",
    "\n",
    "type constant = Integer of int | Boolean of bool\n",
    "\n",
    "type expression = Identifier of identifier (*x*)\n",
    "                | Constant of constant (*c*)\n",
    "                | UnaryOp of unary_op * expression (*uop e*)\n",
    "                | BinaryOp of binary_op * expression * expression (*e op e'*)\n",
    "                | Prod of expression * expression (*(e, e')*)\n",
    "                | Fst of expression (*fst e*)\n",
    "                | Snd of expression (*snd e*)\n",
    "                | Left of typ * typ * expression (*L[A,B] e*)\n",
    "                | Right of typ * typ * expression (*R[A,B] e*)\n",
    "                | Match of expression * expression * expression (*match e with L (x: A) -> e' | R (y: B) -> e'' translates to 1 expr and 2 lambdas*)\n",
    "                | Lambda of identifier_defn * expression (*fun (x : A) -> e*)\n",
    "                | Application of expression * expression (*e e'*)\n",
    "                | IfThenElse of expression * expression * expression (*if e then e' else e''*)\n",
    "                | LetBinding of identifier_defn * expression * expression (*let x: A = e in e'*)\n",
    "                | LetRec of identifier_defn * expression * expression (*let rec f: A->B = e[f] in e'*)\n",
    "                | Box of context * expression (*box (x:A, y:B |- e)*)\n",
    "                | LetBox of identifier * expression * expression (*let box u = e in e'*)\n",
    "                | Closure of identifier * (expression list) (*u with (e1, e2, e3, ...)*)\n",
    "\n",
    "type directive = Reset | Env | Quit (*inspired from Cornell course, used as directives to the REPL loop*)\n",
    "\n",
    "type top_level_defn = Definition of identifier_defn * expression\n",
    "                    | Expression of expression\n",
    "                    | Directive of directive "
   ]
  },
  {
   "cell_type": "code",
   "execution_count": 1,
   "metadata": {},
   "outputs": [
    {
     "data": {
      "text/plain": [
       "val pow : int -> int -> int = <fun>\n"
      ]
     },
     "execution_count": 1,
     "metadata": {},
     "output_type": "execute_result"
    }
   ],
   "source": [
    "let rec pow n x = if n = 0 then 1 else x * pow (n-1) x;;"
   ]
  },
  {
   "cell_type": "code",
   "execution_count": 2,
   "metadata": {},
   "outputs": [
    {
     "data": {
      "text/plain": [
       "- : int = 9\n"
      ]
     },
     "execution_count": 2,
     "metadata": {},
     "output_type": "execute_result"
    }
   ],
   "source": [
    "pow 2 3;;"
   ]
  },
  {
   "cell_type": "code",
   "execution_count": null,
   "metadata": {},
   "outputs": [],
   "source": [
    " "
   ]
  }
 ],
 "metadata": {
  "kernelspec": {
   "display_name": "OCaml default",
   "language": "OCaml",
   "name": "ocaml-jupyter"
  },
  "language_info": {
   "codemirror_mode": "text/x-ocaml",
   "file_extension": ".ml",
   "mimetype": "text/x-ocaml",
   "name": "OCaml",
   "nbconverter_exporter": null,
   "pygments_lexer": "OCaml",
   "version": "4.10.0"
  }
 },
 "nbformat": 4,
 "nbformat_minor": 4
}
